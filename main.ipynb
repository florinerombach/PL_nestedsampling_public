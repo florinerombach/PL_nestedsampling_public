{
 "cells": [
  {
   "cell_type": "markdown",
   "metadata": {},
   "source": [
    "BAYESIAN INFERENCE AND MODEL SELECTION ON PL DATA USING NESTED SAMPLING\n",
    "\n",
    "This notebook is used to perform inference on photoluminescence data of lead halide perovskites using a (flexible) physical model. The aim is to return both a posterior distribution for the physical parameters used in the model, and the total evidence obtained by the sampling to be used for model comparison.\n",
    "\n",
    "Created by Florine Rombach."
   ]
  },
  {
   "cell_type": "code",
   "execution_count": 1,
   "metadata": {},
   "outputs": [],
   "source": [
    "import numpy as np\n",
    "import pandas as pd\n",
    "from pathlib import Path, PurePath\n",
    "import matplotlib.pyplot as plt\n",
    "from scipy import stats\n",
    "import sys\n",
    "from matplotlib import colormaps as cm\n",
    "import dynesty\n",
    "import dynesty.utils\n",
    "import dill\n",
    "dynesty.utils.pickle_module = dill\n",
    "import datetime\n",
    "from dynesty import plotting as dyplot\n",
    "\n",
    "from import_data import *\n",
    "from model import *\n",
    "from nested_sampling import *\n",
    "from plotting import *\n",
    "\n",
    "rstate = np.random.default_rng(56101)\n",
    "np.set_printoptions(threshold=sys.maxsize)"
   ]
  },
  {
   "cell_type": "markdown",
   "metadata": {},
   "source": [
    "THE DATA\n",
    "\n",
    "Inference is performed on data from two different measurements of a perovskite thin film, performed on multiple samples with slightly different growth conditions:\n",
    "\n",
    "- Time-resolved photoluminescence, in which a single laser pulse is used to generate      electron-hole pairs in the material and the photoluminescence resulting from the radiative recombination of these charge carriers is measured over time. The photoluminescence decays over time due to charge recombination.\n",
    "\n",
    "- Photoluminescence quantum efficiency, in which a continuous-wave laser is used to generate electron-hole pairs in the material and the photoluminescence resulting from the radiative recombination of these charge carriers is measured at steady-state equilibrium. The calculated quantum efficiency reflects the rate of radiative to total recombination, attenuated by photon reabsorption.\n",
    "\n",
    "From these measurements, we would like to get information about the rates of various difference recombination processes in our material."
   ]
  },
  {
   "cell_type": "code",
   "execution_count": 2,
   "metadata": {},
   "outputs": [],
   "source": [
    "# An input file is used to supply measurement and sample information.\n",
    "# Choose folder in which the input file is saved. Output files will also be saved here.\n",
    "directory = Path('/home/rombach/code/PL-fitting/project_data')  \n",
    "database_path = directory / 'input.txt'             \n",
    "input_df = pd.read_csv(database_path, sep='\\t')\n",
    "\n",
    "# Provide the nr of processes to split the nested sampling into (for parallelization).\n",
    "nr_proc = 16\n",
    "\n",
    "# Provide the nr of live points for nested sampling (rule of thumb: at least 2*ndim and 50 per expected posterior mode)\n",
    "nr_live_points = 128\n",
    "\n",
    "# Set the min signal to noise ratio for trpl data.\n",
    "trpl_noise_threshhold = 2 \n",
    "\n",
    "data = import_all_data(directory, input_df, trpl_laser_reference_file, trpl_noise_threshhold, plqe_laser_reference_file)"
   ]
  },
  {
   "cell_type": "markdown",
   "metadata": {},
   "source": [
    "THE MODEL\n",
    "\n",
    "Very briefly, the model used in this example is editable but currently includes Auger recombination, radiative recombination with 95% photon reabsorption, non-radiative recombination via one electron and one hole trap with variable energy levels, and a shiftable Fermi level. The variation in the density of charge carriers over time or at steady state under these conditions is described by systems of equations in model.py.\n",
    "\n",
    "Spatially resolved differences in carrier density (stemming from inhomogenous distribution of traps, surface recombination and/or low mobility) are not currently included."
   ]
  },
  {
   "cell_type": "code",
   "execution_count": 3,
   "metadata": {},
   "outputs": [],
   "source": [
    "# Define parameters \n",
    "\n",
    "# Define [name, initial value (for visualization only), lower bound, upper bound, distribution type, vary or keep constant]\n",
    "# Note: lognormally distributed parameters are already rescaled as log(param)\n",
    "\n",
    "samples = list(dict.fromkeys(input_df['sample']))\n",
    "\n",
    "param_dict = defaultdict(dict)\n",
    "\n",
    "for i in range(len(samples)):\n",
    "\n",
    "    Eg = list(input_df.loc[input_df['sample']==samples[i], 'bandgap (eV)'])[0] # import sample bandgap to help set bounds\n",
    "\n",
    "    #                                             PARAM NAME (for postproc)         INITIAL LBOUND  UBOUND      DISTRIBUTION VARY?\n",
    "    param_dict[samples[i]]['p_Ef'] = (            [f'E fermi {samples[i]}',         0.2,    0.025,  Eg-0.025,   'flat',     'constant'])       # Fermi level of perovskite\n",
    "\n",
    "    param_dict[samples[i]]['p_Ca'] = (            [f'log kaug {samples[i]}',        -28,    -28.5,  -26.5,      'normal',   'vary together'])  # EXP! cm6 s-1 (auger coefficient for nnp)\n",
    "\n",
    "    param_dict[samples[i]]['p_krad'] = (          [f'log krad {samples[i]}',        -10,    -11,    -9,         'normal',   'vary together'])  # EXP! cm3 s-1 (internal radiative recombination coefficient)\n",
    "    param_dict[samples[i]]['p_Pa'] = (            [f'Pa {samples[i]}',              0,      0,      1,          'flat',     'constant'])       # probability of parasitic absorption\n",
    "    param_dict[samples[i]]['p_Pr'] = (            [f'Pr {samples[i]}',              0.95,   0,      1,          'flat',     'constant'])       # probability of reabsorption by perovskite\n",
    "\n",
    "    param_dict[samples[i]]['p_N_1'] = (           [f'log N trap1 {samples[i]}',     14,     12,     18,         'normal',   'vary indv'])      # EXP! cm-3 (trap density)\n",
    "    param_dict[samples[i]]['p_depth_trap_1'] = (  [f'E trap1 {samples[i]}',         1.02,   0.9,    Eg-0.05,    'normal',   'vary together'])  # eV (distance of trap from VB)\n",
    "    param_dict[samples[i]]['p_bp_1'] = (          [f'log beta p trap1 {samples[i]}', -9,    -12,    -6,         'normal',   'vary together'])  # EXP! (p capture coefficient)\n",
    "    param_dict[samples[i]]['p_bn_1'] = (          [f'log beta n trap1 {samples[i]}', -9,    -12,    -6,         'flat',     'constant'])       # EXP! (n capture coefficient)\n",
    "\n",
    "    param_dict[samples[i]]['p_N_2'] = (           [f'log N trap2 {samples[i]}',      17,    15,     21,         'normal',   'vary indv'])      # EXP! cm-3 (trap density)\n",
    "    param_dict[samples[i]]['p_depth_trap_2'] = (  [f'E trap2 {samples[i]}',         0.05,   0.05,   0.1,        'flat',     'constant'])       # eV (distance of trap from VB)\n",
    "    param_dict[samples[i]]['p_bn_2'] = (          [f'log beta n trap2 {samples[i]}', -9,    -12,    -6,         'normal',   'vary together'])  # EXP! (n capture coefficient)\n",
    "    param_dict[samples[i]]['p_bp_2'] = (          [f'log beta p trap2 {samples[i]}', -9,    -12,    -6,         'flat',     'constant'])       # EXP! (p capture coefficient)\n",
    "\n",
    "    param_dict[samples[i]]['p_A_ct'] = (          [f'Act {samples[i]}',               0,    0,      0.4,        'flat',     'constant'])       # scaling of delay (allows begin lower than 1)"
   ]
  },
  {
   "cell_type": "code",
   "execution_count": null,
   "metadata": {},
   "outputs": [],
   "source": [
    "# Initial guess plot\n",
    "param_input_in = {}\n",
    "param_input_in[samples[0]] = {key: entry[1] for key, entry in param_dict[samples[0]].items() \n",
    "                              if entry[5] =='vary indv' or entry[5] =='vary together'}\n",
    "for i in range(1, len(samples)):\n",
    "    param_input_in[samples[i]] = {key: entry[1] for key, entry in param_dict[samples[i]].items() \n",
    "                                  if entry[5] =='vary indv'}\n",
    "\n",
    "plot_fit(directory, samples, input_df, data, param_dict, mode = 'single',\n",
    "         param_input_in = param_input_in,\n",
    "         samples_reweighted = None, param_vary_keys = None, param_vary_list = None, nfits = 100)"
   ]
  },
  {
   "cell_type": "markdown",
   "metadata": {},
   "source": [
    "BAYESIAN INFERENCE\n",
    "\n",
    "Bayesian inference uses a likelihood function (which describes how well the model describes the data for a set of parameters) and a collection of prior distributions (which contain previous knowledge about the set of parameters) to calculate posterior distributions for each parameter. This posterior describes what we can know about the model parameters given our previous knowledge and our data.\n",
    " \n",
    "posterior   =   prior  * likelihood / evidence\n",
    "p(θ|D)      =   ( p(θ) * p(D|θ) ) / ∫ p(D|θ) p(θ) dθ\n",
    "\n",
    "Whilst Markov Chain Monte Carlo (MCMC) sampling methods manage posterior estimation by avoiding computation of the evidence, Nested Sampling methods (introduced by Skilling, 2006) compute the evidence directly. This is useful as quantifying the total evidence allows for Bayesian model comparison, which can help make decisions about which model should be used to describe data.\n",
    "\n",
    "                ratio of evidence       ratio of model prior (often 1)\n",
    "Bayes factor = ( p(M2|D) / p(M1|D) ) * ( p(M2) / p(M1) )\n",
    "\n",
    "The dynesty package (Josh Speagle and contributors) used here further allows for 'Dynamic Nested Sampling', in which samples are added after the completion of basic nested sampling to improve the posterior determination. This is not currently used in this example notebook."
   ]
  },
  {
   "cell_type": "code",
   "execution_count": null,
   "metadata": {},
   "outputs": [],
   "source": [
    "# Initialize Nested Sampler\n",
    "\n",
    "# Define the list of parameters to vary according to description above\n",
    "param_vary = {key+'-'+samples[0]: entry for key, entry in param_dict[samples[0]].items() \n",
    "              if entry[5] =='vary indv' or entry[5] =='vary together'}\n",
    "for i in range(1, len(samples)):\n",
    "    param_vary.update({key+'-'+samples[i]: entry for key, entry in param_dict[samples[i]].items() \n",
    "                       if entry[5] =='vary indv'})\n",
    "\n",
    "param_vary_list = list(param_vary.values())\n",
    "param_vary_keys = list(param_vary.keys())\n",
    "ndim = len(param_vary_keys)\n",
    "\n",
    "# Transforms the uniform random variables `u ~ Unif[0., 1.)` \n",
    "# to the parameters of interest according to distributions defined above. \n",
    "# ('bounds' provided above are counted as ±2stdev for normal dist)\n",
    "def prior_transform(u):\n",
    "\n",
    "    priors = np.array(u)  # copy u\n",
    "\n",
    "    for i, param in enumerate(param_vary_list):\n",
    "        if param[4] == 'flat':\n",
    "            priors[i] = u[i]*(param[3]-param[2]) + param[2] #check\n",
    "        elif param[4] == 'normal':\n",
    "            priors[i] = stats.norm.ppf(u[i], np.mean(param[2:4]), (param[3]-param[2])/(2*2))\n",
    "\n",
    "    return priors\n",
    "\n",
    "# Make a new savepath for every sampling run started.\n",
    "savepath = directory / ('run_'+((str(datetime.datetime.now()).replace(\" \", \"_\")).replace(\":\", \"_\")))\n",
    "savepath.mkdir(exist_ok=True)\n",
    "checkpoint_file = PurePath(savepath / 'nested_sampling_run_backup.save')\n",
    "\n",
    "# Run nested sampler in parallel.\n",
    "with dynesty.pool.Pool(nr_proc, log_likelihood, prior_transform, logl_args=(param_vary_keys, param_dict, input_df, data)) as pool:\n",
    "\n",
    "    sampler = dynesty.NestedSampler(pool.loglike, pool.prior_transform, ndim = ndim,\n",
    "                                    rstate = rstate,\n",
    "                                    bound = 'single', #options for shape bounding the target distribution\n",
    "                                    nlive = nr_live_points, # nr of live points being sampled from\n",
    "                                    sample = 'rslice', # sampling method conditioned on the provided bounds\n",
    "                                    pool = pool\n",
    "                                        )\n",
    "\n",
    "    sampler.run_nested(checkpoint_file = str(checkpoint_file), \n",
    "                       dlogz=0.05)"
   ]
  },
  {
   "cell_type": "code",
   "execution_count": null,
   "metadata": {},
   "outputs": [],
   "source": [
    "# optionally: restore sampler object if not in memory\n",
    "# sampler = dynesty.NestedSampler.restore(str(checkpoint_file))\n",
    "\n",
    "results = sampler.results\n",
    "results.summary()\n",
    "\n",
    "# Post-processing saves sampler parameters, all accepted samples, \n",
    "# and dynesty's default plots describing the sampler progress, sampled space for each parameter, and posterior cornerplots.\n",
    "samples_reweighted = post_run_info(results, nr_live_points, savepath, param_vary_list)\n",
    "\n",
    "# Plot multi-draw overlay of model fit onto data\n",
    "# NOTE: this currently assumes that the posterios distributions are all gaussian, and needs to be edited if this is not the case\n",
    "plot_fit(savepath, samples, input_df, data, param_dict, mode = 'dist', \n",
    "         param_input_in = None, \n",
    "         samples_reweighted = samples_reweighted, param_vary_list = param_vary_list, param_vary_keys = param_vary_keys, nfits = 100)"
   ]
  },
  {
   "cell_type": "markdown",
   "metadata": {},
   "source": [
    "© Copyright 2024, Florine Rombach (University of Oxford)"
   ]
  }
 ],
 "metadata": {
  "kernelspec": {
   "display_name": "floenv",
   "language": "python",
   "name": "python3"
  },
  "language_info": {
   "codemirror_mode": {
    "name": "ipython",
    "version": 3
   },
   "file_extension": ".py",
   "mimetype": "text/x-python",
   "name": "python",
   "nbconvert_exporter": "python",
   "pygments_lexer": "ipython3",
   "version": "3.9.19"
  }
 },
 "nbformat": 4,
 "nbformat_minor": 2
}
